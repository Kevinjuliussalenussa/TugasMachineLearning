{
  "nbformat": 4,
  "nbformat_minor": 0,
  "metadata": {
    "colab": {
      "provenance": [],
      "include_colab_link": true
    },
    "kernelspec": {
      "name": "python3",
      "display_name": "Python 3"
    },
    "language_info": {
      "name": "python"
    }
  },
  "cells": [
    {
      "cell_type": "markdown",
      "metadata": {
        "id": "view-in-github",
        "colab_type": "text"
      },
      "source": [
        "<a href=\"https://colab.research.google.com/github/Kevinjuliussalenussa/TugasMachineLearning/blob/main/Function.ipynb\" target=\"_parent\"><img src=\"https://colab.research.google.com/assets/colab-badge.svg\" alt=\"Open In Colab\"/></a>"
      ]
    },
    {
      "cell_type": "code",
      "source": [
        "from google.colab import drive\n",
        "drive.mount('/content/drive')"
      ],
      "metadata": {
        "colab": {
          "base_uri": "https://localhost:8080/"
        },
        "id": "YweGjrIrZb1l",
        "outputId": "b05a0150-352b-4b65-9712-a3037a9083e3"
      },
      "execution_count": 1,
      "outputs": [
        {
          "output_type": "stream",
          "name": "stdout",
          "text": [
            "Mounted at /content/drive\n"
          ]
        }
      ]
    },
    {
      "cell_type": "markdown",
      "metadata": {
        "id": "L5m4BxppNomy"
      },
      "source": [
        "#Function\n",
        "Function adalah sebuah blok statement yang hanya akan dijalankan saat ia dipanggil."
      ]
    },
    {
      "cell_type": "code",
      "metadata": {
        "id": "UyTbRBZ2rFIN",
        "colab": {
          "base_uri": "https://localhost:8080/"
        },
        "outputId": "676b6c8a-12a3-4e2d-afce-3acbfd81142c"
      },
      "source": [
        "genap = [2,4,6,8,10]\n",
        "len(genap)"
      ],
      "execution_count": 2,
      "outputs": [
        {
          "output_type": "execute_result",
          "data": {
            "text/plain": [
              "5"
            ]
          },
          "metadata": {},
          "execution_count": 2
        }
      ]
    },
    {
      "cell_type": "code",
      "metadata": {
        "colab": {
          "base_uri": "https://localhost:8080/"
        },
        "id": "XL4kqpzFOLsQ",
        "outputId": "cac82d39-f18a-4c6a-cf2d-463760f4c680"
      },
      "source": [
        "print('Assalamualaikum Dunia')"
      ],
      "execution_count": null,
      "outputs": [
        {
          "output_type": "stream",
          "name": "stdout",
          "text": [
            "Assalamualaikum Dunia\n"
          ]
        }
      ]
    },
    {
      "cell_type": "markdown",
      "metadata": {
        "id": "x1yhMy0uOVVL"
      },
      "source": [
        "##Keyword & Argument\n",
        "**Keyword/Parameter** : Variable yang digunakan dalam deklarasi fungsi\n",
        "\n",
        "**Argument** : Nilai yang diberikan saat pemanggilan fungsi"
      ]
    },
    {
      "cell_type": "code",
      "metadata": {
        "colab": {
          "base_uri": "https://localhost:8080/"
        },
        "id": "zXubi7KBOR06",
        "outputId": "ecabc3d3-daa8-4401-c4b9-4c4298a85b48"
      },
      "source": [
        "# sep = keyword/argument\n",
        "# '_' = argument\n",
        "\n",
        "print('kata1','kata2', sep='/')"
      ],
      "execution_count": 3,
      "outputs": [
        {
          "output_type": "stream",
          "name": "stdout",
          "text": [
            "kata1/kata2\n"
          ]
        }
      ]
    },
    {
      "cell_type": "code",
      "metadata": {
        "id": "Zww_NH82Pv8p"
      },
      "source": [],
      "execution_count": null,
      "outputs": []
    },
    {
      "cell_type": "markdown",
      "metadata": {
        "id": "4Y-OwU6HQD40"
      },
      "source": [
        "##Membuat Fungsi\n",
        "Python mengizinkan untuk mendeklarasikan fungsi dalam kode yang dituliskan yang dikenal dengan **user defined function**\n",
        "\n",
        "\n",
        "\n",
        "```\n",
        "def nama_fungsi(argument):\n",
        "  pernyataan_1\n",
        "  ...\n",
        "  pernyataan_n\n",
        "  return nilai keluaran\n",
        "```\n",
        "\n"
      ]
    },
    {
      "cell_type": "code",
      "metadata": {
        "id": "OlItxMgtQUne"
      },
      "source": [
        "#Pendefinisian fungsi_kuadrat\n",
        "def fungsi_kuadrat(x):\n",
        "  hasil = x**2\n",
        "  return hasil\n"
      ],
      "execution_count": 4,
      "outputs": []
    },
    {
      "cell_type": "code",
      "metadata": {
        "id": "4uWpYt3hQ6O7"
      },
      "source": [
        "#Alternatif Pendefinisian fungsi_kuadrat\n",
        "def fungsi_kuadrat(x):\n",
        "  return x**2"
      ],
      "execution_count": 5,
      "outputs": []
    },
    {
      "cell_type": "code",
      "metadata": {
        "colab": {
          "base_uri": "https://localhost:8080/"
        },
        "id": "1ouWt7ReRIfe",
        "outputId": "d682331c-9071-4939-82af-94a906f51f55"
      },
      "source": [
        "#Pemanggilan fungsi_kuadrat\n",
        "fungsi_kuadrat(6)"
      ],
      "execution_count": 6,
      "outputs": [
        {
          "output_type": "execute_result",
          "data": {
            "text/plain": [
              "36"
            ]
          },
          "metadata": {},
          "execution_count": 6
        }
      ]
    },
    {
      "cell_type": "markdown",
      "metadata": {
        "id": "umFnjQ8KWMk2"
      },
      "source": [
        "##Positional Argument dan Keyword\n",
        "Kita bisa menyatakan sebagai positional argument atau keyword. Beberapa manfaat argument kata kunci dapat berupa :\n",
        "\n",
        "* Kita dapat menyebut argumen dengan nama mereka untuk memperjelas apa yang mereka wakili\n",
        "* Kita dapat mengatur ulang argumen dengan cara yang membuatnya paling mudah dibaca"
      ]
    },
    {
      "cell_type": "code",
      "metadata": {
        "id": "_r4gHEkXROjt"
      },
      "source": [
        "#Mendefinisikan fungsi dengan beberapa argumen\n",
        "def tampilkan_kata(a,b,c):\n",
        "  print(a,b,c)"
      ],
      "execution_count": 7,
      "outputs": []
    },
    {
      "cell_type": "code",
      "metadata": {
        "colab": {
          "base_uri": "https://localhost:8080/"
        },
        "id": "l26b_221Xk-O",
        "outputId": "98a48581-128b-40e9-8b34-b9b6fa501b09"
      },
      "source": [
        "#Positional Arguments\n",
        "tampilkan_kata('aku','kau','dia')"
      ],
      "execution_count": 8,
      "outputs": [
        {
          "output_type": "stream",
          "name": "stdout",
          "text": [
            "aku kau dia\n"
          ]
        }
      ]
    },
    {
      "cell_type": "code",
      "metadata": {
        "colab": {
          "base_uri": "https://localhost:8080/"
        },
        "id": "nToXJihoX7Ug",
        "outputId": "36e3c85d-d6cd-4bc7-df01-00cd109df491"
      },
      "source": [
        "tampilkan_kata('kau','aku','dia')"
      ],
      "execution_count": 9,
      "outputs": [
        {
          "output_type": "stream",
          "name": "stdout",
          "text": [
            "kau aku dia\n"
          ]
        }
      ]
    },
    {
      "cell_type": "code",
      "metadata": {
        "colab": {
          "base_uri": "https://localhost:8080/"
        },
        "id": "g6fk_N8eYMu7",
        "outputId": "64ce4f63-7b05-470a-c994-4f6600621924"
      },
      "source": [
        "#argumen berdasarkan keyword-nya\n",
        "tampilkan_kata(a='aku', b='kau', c='dia')\n",
        "tampilkan_kata(c='dia', b='kau', a='aku')\n",
        "\n",
        "#Catatan : Jika sudah diberi kunci maka urutan tidak menjadi penting"
      ],
      "execution_count": 10,
      "outputs": [
        {
          "output_type": "stream",
          "name": "stdout",
          "text": [
            "aku kau dia\n",
            "aku kau dia\n"
          ]
        }
      ]
    },
    {
      "cell_type": "code",
      "metadata": {
        "colab": {
          "base_uri": "https://localhost:8080/"
        },
        "id": "qaDhhr4tYyZF",
        "outputId": "a0f884bc-5abb-4721-f7fd-b994d852b2b4"
      },
      "source": [
        "#Campuran antara argumen posisi dan argumen kata kunci\n",
        "tampilkan_kata('aku', b='kau', c='dia')"
      ],
      "execution_count": 11,
      "outputs": [
        {
          "output_type": "stream",
          "name": "stdout",
          "text": [
            "aku kau dia\n"
          ]
        }
      ]
    },
    {
      "cell_type": "markdown",
      "metadata": {
        "id": "uBGVVpMmarH2"
      },
      "source": [
        "Ini tidak diijinkan:\n",
        "* Positional argument setelah keyword argument\n",
        "    ```\n",
        "    tampilkan_kata('aku', b='kau', 'dia')\n",
        "    ```\n",
        "* Terdapat dua nilai untuk satu keyword argument yang sama\n",
        "    ```\n",
        "    tampilkan_kata(1, b=2, a=3)\n",
        "    ```\n",
        "\n"
      ]
    },
    {
      "cell_type": "markdown",
      "metadata": {
        "id": "DIdb6CdDcCjJ"
      },
      "source": [
        "##Argument Default\n",
        "Fungsi dapat memiliki argumen default dengan nilai yang telah ditentukan sebelumnya. Argumen ini dapat ditinggalkan dan nilai default kemudian diteruskan ke fungsi, atau argumen dapat dirubah dengan nilai yang berbeda. Perhatikan bahwa argumen default harus ditentukan sebagai parameter terakhir dalam suatu fungsi."
      ]
    },
    {
      "cell_type": "code",
      "metadata": {
        "colab": {
          "base_uri": "https://localhost:8080/"
        },
        "id": "CGsp6Qt3aF1w",
        "outputId": "702b590e-4ba8-4ef9-cf72-6dabd9be95e9"
      },
      "source": [
        "#Argumen default\n",
        "def tampilkan_kata(a,b,c,d='sahabat'):\n",
        "  print(a,b,c,d)\n",
        "\n",
        "tampilkan_kata('aku','kau','dia')\n",
        "tampilkan_kata('aku',b='kau',c='dia',d='teman')\n",
        "\n",
        "#catatan : Argumen default harus diletakkan terakhir"
      ],
      "execution_count": 12,
      "outputs": [
        {
          "output_type": "stream",
          "name": "stdout",
          "text": [
            "aku kau dia sahabat\n",
            "aku kau dia teman\n"
          ]
        }
      ]
    },
    {
      "cell_type": "markdown",
      "metadata": {
        "id": "WdNn0rVtdv3I"
      },
      "source": [
        "##Contoh User Defined Function"
      ]
    },
    {
      "cell_type": "code",
      "metadata": {
        "colab": {
          "base_uri": "https://localhost:8080/"
        },
        "id": "SPqmI30sdd0Q",
        "outputId": "20dbd1dd-0089-4587-d400-764e775fb170"
      },
      "source": [
        "#Contoh 1 : Penjumlahan 2 bilangan\n",
        "\n",
        "def penjumlahan(x, y): # input\n",
        "  a=x+y                # proses\n",
        "  return a             # output\n",
        "\n",
        "penjumlahan(1, 2)      # Pemanggilan fungsi"
      ],
      "execution_count": 13,
      "outputs": [
        {
          "output_type": "execute_result",
          "data": {
            "text/plain": [
              "3"
            ]
          },
          "metadata": {},
          "execution_count": 13
        }
      ]
    },
    {
      "cell_type": "code",
      "metadata": {
        "colab": {
          "base_uri": "https://localhost:8080/"
        },
        "id": "VOIUCO_0enEK",
        "outputId": "ca715ece-9702-4c21-d773-155f5ca42d61"
      },
      "source": [
        "#Contoh 2 : Penjumlahan yang memungkinkan untuk tiga bilangan\n",
        "\n",
        "def penjumlahan(x,y,z=None):\n",
        "  if (z==None):\n",
        "    return x+y\n",
        "  else:\n",
        "    return x+y+z\n",
        "\n",
        "print(penjumlahan(1,2))\n",
        "print(penjumlahan(1,2,3))"
      ],
      "execution_count": 14,
      "outputs": [
        {
          "output_type": "stream",
          "name": "stdout",
          "text": [
            "3\n",
            "6\n"
          ]
        }
      ]
    },
    {
      "cell_type": "code",
      "metadata": {
        "colab": {
          "base_uri": "https://localhost:8080/"
        },
        "id": "shZLnbwqfSw8",
        "outputId": "025f809d-bb4a-4786-d8e4-06e45b7f7911"
      },
      "source": [
        "#Contoh 3  : Menghitung luas dan keliling persegi\n",
        "\n",
        "def luas_dan_keliling_presegi(s):\n",
        "  luas = s**2\n",
        "  keliling = 4*s\n",
        "  return luas, keliling\n",
        "\n",
        "luas, keliling = luas_dan_keliling_presegi(2)\n",
        "print('luas:', luas)\n",
        "print('keliling:', keliling)"
      ],
      "execution_count": 15,
      "outputs": [
        {
          "output_type": "stream",
          "name": "stdout",
          "text": [
            "luas: 4\n",
            "keliling: 8\n"
          ]
        }
      ]
    },
    {
      "cell_type": "markdown",
      "metadata": {
        "id": "ldFhL881g11k"
      },
      "source": [
        "##Latihan"
      ]
    },
    {
      "cell_type": "code",
      "metadata": {
        "colab": {
          "base_uri": "https://localhost:8080/"
        },
        "id": "g_5mAcx7gnEy",
        "outputId": "1d2e0438-2192-4236-ef0d-f4fead7d3785"
      },
      "source": [
        "# 1. Buatlah sebuah fungsi untuk menghitung luas dan keliling lingkaran dengan input jari2\n",
        "\n",
        "def luas_dan_keliling_lingkaran(r):\n",
        "  luas = 3.14*r**2\n",
        "  keliling = 2*3.14*r\n",
        "  return luas\n",
        "  return keliling\n",
        "\n",
        "luas = luas_dan_keliling_lingkaran(100)\n",
        "keliling = luas_dan_keliling_lingkaran(20)\n",
        "print('luas:', luas)\n",
        "print('keliling:', keliling)"
      ],
      "execution_count": 16,
      "outputs": [
        {
          "output_type": "stream",
          "name": "stdout",
          "text": [
            "luas: 31400.0\n",
            "keliling: 1256.0\n"
          ]
        }
      ]
    },
    {
      "cell_type": "code",
      "metadata": {
        "colab": {
          "base_uri": "https://localhost:8080/"
        },
        "id": "9HRpXfDnjVHb",
        "outputId": "c8635c85-ca73-4ece-ec12-e86b5d1f1398"
      },
      "source": [
        "'''2. Buatlah sebuah fungsi untuk menggabungkan dua kata dalam bentuk string bebas\n",
        "menjadi satu kata tanpa spasi dengan huruf kecil'''\n",
        "\n",
        "print('tangkuban','perahu',sep='')"
      ],
      "execution_count": 17,
      "outputs": [
        {
          "output_type": "stream",
          "name": "stdout",
          "text": [
            "tangkubanperahu\n"
          ]
        }
      ]
    },
    {
      "cell_type": "code",
      "metadata": {
        "colab": {
          "base_uri": "https://localhost:8080/"
        },
        "id": "ol_3kawun6O2",
        "outputId": "1495d08a-b6d5-4d4c-f9ec-a19a26ee5b74"
      },
      "source": [
        "'''3. Buatlah sebuah fungsi awal_akhir(list_input) untuk menukar elemen pertama pada\n",
        "sebuah list dengan elemen terakhir pada list yang sama'''\n",
        "\n",
        "def awal_akhir(a,b,c,d):\n",
        "  return [d,b,c,a]\n",
        "\n",
        "awal_akhir(1,2,3,4)"
      ],
      "execution_count": 18,
      "outputs": [
        {
          "output_type": "execute_result",
          "data": {
            "text/plain": [
              "[4, 2, 3, 1]"
            ]
          },
          "metadata": {},
          "execution_count": 18
        }
      ]
    },
    {
      "cell_type": "code",
      "metadata": {
        "id": "fgo0HdVUsU65"
      },
      "source": [],
      "execution_count": null,
      "outputs": []
    }
  ]
}